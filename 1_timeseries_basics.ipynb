{
 "cells": [
  {
   "cell_type": "code",
   "execution_count": 1,
   "metadata": {},
   "outputs": [],
   "source": [
    "##################### datetime, pandas, timedelta ###############\n",
    "\n",
    "import pandas as pd\n",
    "import numpy as np\n",
    "from datetime import datetime"
   ]
  },
  {
   "cell_type": "code",
   "execution_count": 2,
   "metadata": {},
   "outputs": [
    {
     "name": "stdout",
     "output_type": "stream",
     "text": [
      "2020-01-02 13:30:15\n",
      "13\n"
     ]
    }
   ],
   "source": [
    "my_year = 2020\n",
    "my_month = 1\n",
    "my_day = 2\n",
    "my_hour = 13\n",
    "my_minute = 30\n",
    "my_second = 15\n",
    "\n",
    "# creating datetime object\n",
    "my_date = datetime(my_year, my_month, my_day, my_hour, my_minute, my_second)\n",
    "print(my_date)\n",
    "\n",
    "# we can also fetch year, month, dayofweek, day, hour, minute, second from this object\n",
    "print(my_date.hour)"
   ]
  },
  {
   "cell_type": "markdown",
   "metadata": {},
   "source": [
    "# NumPy Datetime Arrays, Date Ranges\n",
    "Just as <tt>np.arange(start,stop,step)</tt> can be used to produce an array of evenly-spaced integers, we can pass a <tt>dtype</tt> argument to obtain an array of dates. Remember that the stop date is <em>exclusive</em>."
   ]
  },
  {
   "cell_type": "code",
   "execution_count": 3,
   "metadata": {},
   "outputs": [
    {
     "name": "stdout",
     "output_type": "stream",
     "text": [
      "['2002-03-15' '2020-03-16' '2020-02-17']\n",
      "['2002' '2020' '2020']\n",
      "['2018-06-01' '2018-06-08' '2018-06-15' '2018-06-22']\n"
     ]
    }
   ],
   "source": [
    "# creating datetime series with NUMPY\n",
    "series = np.array(['2002-03-15', '2020-03-16', '2020-02-17'], dtype='datetime64')\n",
    "print(series)\n",
    "\n",
    "# yearly\n",
    "series = np.array(['2002-03-15', '2020-03-16', '2020-02-17'], dtype='datetime64[Y]')\n",
    "print(series)\n",
    "\n",
    "# daywise from a range\n",
    "series = np.arange('2018-06-01', '2018-06-23', 7, dtype='datetime64[D]')\n",
    "print(series)\n",
    "# or by omitting the step value we can obtain every value based on the precision.\n",
    "series = np.arange('2018-06-01', '2018-06-23', dtype='datetime64[D]') \n"
   ]
  },
  {
   "cell_type": "markdown",
   "metadata": {},
   "source": [
    "NOTE: We see the dtype listed as 'datetime64[D]'. This tells us that NumPy applied a day-level date precision.\n",
    "If we want we can pass in a different measurement, such as [h] for hour or [Y] for year."
   ]
  },
  {
   "cell_type": "markdown",
   "metadata": {},
   "source": [
    "# Pandas Datetime Index"
   ]
  },
  {
   "cell_type": "code",
   "execution_count": 4,
   "metadata": {},
   "outputs": [
    {
     "name": "stdout",
     "output_type": "stream",
     "text": [
      "daywise:  DatetimeIndex(['2020-01-01', '2020-01-02', '2020-01-03', '2020-01-04',\n",
      "               '2020-01-05', '2020-01-06', '2020-01-07'],\n",
      "              dtype='datetime64[ns]', freq='D')\n",
      "size:  92\n",
      "hourwise: DatetimeIndex(['2017-08-01 00:00:00', '2017-08-01 01:00:00',\n",
      "               '2017-08-01 02:00:00', '2017-08-01 03:00:00',\n",
      "               '2017-08-01 04:00:00'],\n",
      "              dtype='datetime64[ns]', freq='H')\n",
      "conversion:  DatetimeIndex(['2020-01-07', '2018-06-08'], dtype='datetime64[ns]', freq=None)\n"
     ]
    }
   ],
   "source": [
    "# creating datetime series with PANDAS\n",
    "# daywise\n",
    "series = pd.date_range('2020-01-01', periods=7, freq='D')\n",
    "print('daywise: ', series)\n",
    "# or based on start and end date\n",
    "myTseries = pd.date_range('2017-08-01', '2017-10-31')\n",
    "print('size: ', myTseries.size) # print size of time series\n",
    "\n",
    "# hour wise\n",
    "myTseriesHrs = pd.date_range('2017-08-01', '2017-10-31', freq = 'H')\n",
    "print('hourwise:', myTseriesHrs[:5])\n",
    "\n",
    "# convert to datetime object from specified format to standard format\n",
    "series = pd.to_datetime(['2020--7-1', '2018--8-6'], format='%Y--%d-%m')\n",
    "print('conversion: ', series)"
   ]
  },
  {
   "cell_type": "markdown",
   "metadata": {},
   "source": [
    "here we can provide datetime in any format and pandas will take care of it based on the format you give in format parameter"
   ]
  },
  {
   "cell_type": "code",
   "execution_count": 5,
   "metadata": {},
   "outputs": [
    {
     "name": "stdout",
     "output_type": "stream",
     "text": [
      "2017-08-01    153.017634\n",
      "2017-08-02    155.530080\n",
      "2017-08-03    152.568520\n",
      "2017-08-04    141.725196\n",
      "2017-08-05    149.541564\n",
      "Freq: D, dtype: float64\n",
      "2017-08-01 00:00:00    149.073139\n",
      "2017-08-01 01:00:00    147.292039\n",
      "2017-08-01 02:00:00    159.156975\n",
      "2017-08-01 03:00:00    157.859529\n",
      "2017-08-01 04:00:00    144.758682\n",
      "Freq: H, dtype: float64\n"
     ]
    }
   ],
   "source": [
    "# creating pandas series with timeseries index\n",
    "myTseriesSeq = pd.Series(np.random.normal(150, 10, len(myTseries)), index = myTseries)\n",
    "print(myTseriesSeq.head())\n",
    "\n",
    "myTseriesSeqHrs = pd.Series(np.random.normal(150, 10, len(myTseriesHrs)), index = myTseriesHrs)\n",
    "print(myTseriesSeqHrs.head())\n",
    "#print(myTseriesSeqHrs.tail())\n",
    "#print(myTseriesSeqHrs.size)"
   ]
  },
  {
   "cell_type": "code",
   "execution_count": 16,
   "metadata": {},
   "outputs": [
    {
     "name": "stdout",
     "output_type": "stream",
     "text": [
      "                   A         B\n",
      "2020-01-01 -0.307562 -1.648806\n",
      "2020-01-02  0.031396  0.128582\n",
      "2020-01-03 -1.639578 -1.263568 \n",
      "\n",
      "DatetimeIndex(['2020-01-01', '2020-01-02', '2020-01-03'], dtype='datetime64[ns]', freq='D') \n",
      "\n",
      " 2020-01-03 00:00:00 \n",
      "\n",
      " 2 \n",
      "\n",
      " 2020-01-01 00:00:00 \n",
      "\n",
      " 0 \n",
      "\n",
      " A   2020-01-03\n",
      "B   2020-01-01\n",
      "dtype: datetime64[ns] \n",
      "\n",
      " A   2020-01-02\n",
      "B   2020-01-02\n",
      "dtype: datetime64[ns] \n",
      "\n",
      " A   2020-01-03\n",
      "dtype: datetime64[ns]\n"
     ]
    }
   ],
   "source": [
    "# create timeseries dataframe\n",
    "# create data 3 rows, 2 columns\n",
    "data = np.random.randn(3,2)\n",
    "cols = ['A', 'B'] # column names\n",
    "idx = pd.date_range('2020-01-01', periods=3, freq='D') # index values\n",
    "df = pd.DataFrame(data, columns=cols, index=idx) # create dataframe\n",
    "print(df, '\\n')\n",
    "print(\n",
    "    # index sorting\n",
    "    df.index, '\\n\\n', \n",
    "    df.index.max(), '\\n\\n', \n",
    "    df.index.argmax(), '\\n\\n', \n",
    "    df.index.min(), '\\n\\n', \n",
    "    df.index.argmin(), '\\n\\n',\n",
    "\n",
    "    # sorting index based on column values\n",
    "    df.idxmin(), '\\n\\n', \n",
    "    df.idxmax(), '\\n\\n', \n",
    "    df[['A']].idxmin()\n",
    "    )"
   ]
  },
  {
   "cell_type": "code",
   "execution_count": 13,
   "metadata": {},
   "outputs": [
    {
     "name": "stdout",
     "output_type": "stream",
     "text": [
      "1 days 04:15:02.008000\n",
      "1 days 04:15:08.008000\n",
      "TimedeltaIndex(['0 days 00:00:00', '0 days 00:00:01', '0 days 00:00:02',\n",
      "                '0 days 00:00:03'],\n",
      "               dtype='timedelta64[ns]', freq=None)\n",
      "0   2017-10-01\n",
      "1   2017-10-02\n",
      "2   2017-10-03\n",
      "3   2017-10-04\n",
      "4   2017-10-05\n",
      "dtype: datetime64[ns]\n",
      "0 days 04:15:00\n",
      "0   2017-10-01 04:15:00\n",
      "1   2017-10-02 04:15:00\n",
      "2   2017-10-03 04:15:00\n",
      "3   2017-10-04 04:15:00\n",
      "4   2017-10-05 04:15:00\n",
      "dtype: datetime64[ns]\n"
     ]
    }
   ],
   "source": [
    "# creating time deltas\n",
    "a = pd.Timedelta('1 days 4 hours 15 min 2 s 8 ms')\n",
    "print(a)\n",
    "\n",
    "# another way of creating time deltas\n",
    "a = pd.Timedelta(days=1, hours=4, minutes=15, seconds=8, milliseconds=8)\n",
    "print(a)\n",
    "\n",
    "# another way of creating time deltas\n",
    "a = pd.to_timedelta(np.arange(4), unit='s')\n",
    "print(a)\n",
    "\n",
    "# adding timedeltas\n",
    "ts1 = pd.Series(pd.date_range('2017-10-01', periods=5, freq='D'))\n",
    "print(ts1)\n",
    "ts2 = pd.Timedelta(hours=4, minutes=15)\n",
    "print(ts2)\n",
    "print(ts1 + ts2)"
   ]
  }
 ],
 "metadata": {
  "kernelspec": {
   "display_name": "st_env1",
   "language": "python",
   "name": "python3"
  },
  "language_info": {
   "codemirror_mode": {
    "name": "ipython",
    "version": 3
   },
   "file_extension": ".py",
   "mimetype": "text/x-python",
   "name": "python",
   "nbconvert_exporter": "python",
   "pygments_lexer": "ipython3",
   "version": "3.8.0"
  }
 },
 "nbformat": 4,
 "nbformat_minor": 2
}
